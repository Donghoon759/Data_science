{
 "cells": [
  {
   "cell_type": "code",
   "execution_count": 1,
   "metadata": {},
   "outputs": [
    {
     "name": "stdout",
     "output_type": "stream",
     "text": [
      "{'batchcomplete': '', 'query': {'pages': {'-1': {'ns': 0, 'title': 'Data science', 'missing': '', 'contentmodel': 'wikitext', 'pagelanguage': 'en', 'pagelanguagehtmlcode': 'en', 'pagelanguagedir': 'ltr'}}}}\n"
     ]
    }
   ],
   "source": [
    "import urllib.request, urllib.parse, re\n",
    "import bs4 as BeautifulSoup\n",
    "from collections import Counter\n",
    "import json\n",
    "import requests\n",
    "\n",
    "url = \"http://www.mediawiki.org/w/api.php?action=query&format=json&prop=info&titles=Data%20science\"\n",
    "response = requests.get(url)\n",
    "Data = response.json()\n",
    "\n",
    "# with open(Data, \"r\") as read_json:\n",
    "#     json_string = json.dumps(read_json)\n",
    "    \n",
    "\n",
    "print(Data)\n",
    "\n"
   ]
  },
  {
   "cell_type": "code",
   "execution_count": 2,
   "metadata": {},
   "outputs": [
    {
     "name": "stdout",
     "output_type": "stream",
     "text": [
      "[('en', 2)]\n"
     ]
    }
   ],
   "source": [
    "# doc = Data.load().decode().lower()\n",
    "Strings = str(Data)\n",
    "words=re.findall(r\"\\w+\", Strings)\n",
    "print(Counter(words).most_common(1))\n",
    "\n"
   ]
  },
  {
   "cell_type": "code",
   "execution_count": null,
   "metadata": {},
   "outputs": [],
   "source": []
  },
  {
   "cell_type": "code",
   "execution_count": null,
   "metadata": {},
   "outputs": [],
   "source": []
  },
  {
   "cell_type": "code",
   "execution_count": null,
   "metadata": {},
   "outputs": [],
   "source": []
  },
  {
   "cell_type": "code",
   "execution_count": null,
   "metadata": {},
   "outputs": [],
   "source": []
  }
 ],
 "metadata": {
  "kernelspec": {
   "display_name": "Python 3",
   "language": "python",
   "name": "python3"
  },
  "language_info": {
   "codemirror_mode": {
    "name": "ipython",
    "version": 3
   },
   "file_extension": ".py",
   "mimetype": "text/x-python",
   "name": "python",
   "nbconvert_exporter": "python",
   "pygments_lexer": "ipython3",
   "version": "3.6.5"
  }
 },
 "nbformat": 4,
 "nbformat_minor": 2
}
