{
 "cells": [
  {
   "cell_type": "code",
   "execution_count": 1,
   "metadata": {},
   "outputs": [
    {
     "name": "stderr",
     "output_type": "stream",
     "text": [
      "C:\\ProgramData\\Anaconda3\\lib\\site-packages\\bs4\\__init__.py:181: UserWarning: No parser was explicitly specified, so I'm using the best available HTML parser for this system (\"lxml\"). This usually isn't a problem, but if you run this code on another system, or in a different virtual environment, it may use a different parser and behave differently.\n",
      "\n",
      "The code that caused this warning is on line 193 of the file C:\\ProgramData\\Anaconda3\\lib\\runpy.py. To get rid of this warning, change code that looks like this:\n",
      "\n",
      " BeautifulSoup(YOUR_MARKUP})\n",
      "\n",
      "to this:\n",
      "\n",
      " BeautifulSoup(YOUR_MARKUP, \"lxml\")\n",
      "\n",
      "  markup_type=markup_type))\n"
     ]
    },
    {
     "data": {
      "text/plain": [
       "'My documentMain text.'"
      ]
     },
     "execution_count": 1,
     "metadata": {},
     "output_type": "execute_result"
    }
   ],
   "source": [
    "from bs4 import BeautifulSoup\n",
    "from urllib.request import urlopen\n",
    "\n",
    "#문자열에서 soup 생성\n",
    "soup1 = BeautifulSoup(\"<HTML><HEAD><header></HEAD><body></HTML>\")\n",
    "\n",
    "#로컬 파일에서 soup 생성\n",
    "soup2 = BeautifulSoup(open(\"myDoc.html\"))\n",
    "\n",
    "#웹 문서에서 soup 생성\n",
    "#urlopen()이 \"http://\"를 자동으로 추가하지 않는다\n",
    "soup3 = BeautifulSoup(urlopen(\"http://www.networksciencelab.com/\"))\n",
    "\n",
    "htmlString = '''<HTML><HEAD><TITLE>My document</TITLE></HEAD><BODY>Main text.</BODY></HTML>'''\n",
    "\n",
    "soup = BeautifulSoup(htmlString)\n",
    "soup.get_text()"
   ]
  },
  {
   "cell_type": "code",
   "execution_count": 2,
   "metadata": {},
   "outputs": [
    {
     "name": "stderr",
     "output_type": "stream",
     "text": [
      "C:\\ProgramData\\Anaconda3\\lib\\site-packages\\bs4\\__init__.py:181: UserWarning: No parser was explicitly specified, so I'm using the best available HTML parser for this system (\"lxml\"). This usually isn't a problem, but if you run this code on another system, or in a different virtual environment, it may use a different parser and behave differently.\n",
      "\n",
      "The code that caused this warning is on line 193 of the file C:\\ProgramData\\Anaconda3\\lib\\runpy.py. To get rid of this warning, change code that looks like this:\n",
      "\n",
      " BeautifulSoup(YOUR_MARKUP})\n",
      "\n",
      "to this:\n",
      "\n",
      " BeautifulSoup(YOUR_MARKUP, \"lxml\")\n",
      "\n",
      "  markup_type=markup_type))\n"
     ]
    },
    {
     "data": {
      "text/plain": [
       "[('Networks of Music Groups as Success Predictors',\n",
       "  'http://www.slideshare.net/DmitryZinoviev/networks-of-music-groups-as-success-predictors'),\n",
       " ('Network Science Workshop',\n",
       "  'http://www.slideshare.net/DmitryZinoviev/workshop-20212296'),\n",
       " ('Resilience in Transaction-Oriented Networks',\n",
       "  'http://www.slideshare.net/DmitryZinoviev/resilience-in-transactional-networks'),\n",
       " ('Peer Ratings in Massive Online Social Networks',\n",
       "  'http://www.slideshare.net/DmitryZinoviev/peer-ratings-in-massive-online-social-networks'),\n",
       " ('Semantic Networks of Interests in Online NSSI Communities',\n",
       "  'http://www.slideshare.net/DmitryZinoviev/presentation-31680572'),\n",
       " ('Towards an Ideal Store',\n",
       "  'http://www.slideshare.net/DmitryZinoviev/10-monthsymposiumbeta'),\n",
       " ('D.Zinoviev, \"Analyzing Cultural Domains with Python,\"',\n",
       "  'https://media.pragprog.com/newsletters/2016-04-06.html'),\n",
       " ('D. Zinoviev, D. Stefanescu, G. Fireman, and L. Swenson, \"Semantic networks of interests in online non-suicidal self-injury communities,\"',\n",
       "  'http://dhj.sagepub.com/content/2/2055207616642118.full'),\n",
       " ('D.Zinoviev, \"The Pain of Complexity,\"',\n",
       "  'http://www.mitpressjournals.org/doi/abs/10.1162/LEON_a_01271#.VzOvwHUrKzc'),\n",
       " ('D.Zinoviev, Z.Zhu, and K.Li, \"Building mini-categories in product networks,\"',\n",
       "  'http://link.springer.com/chapter/10.1007/978-3-319-16112-9_18'),\n",
       " ('D.Zinoviev, H.Benbrahim, G.Meszoely, and D.Stefanescu, \"Mitigation of delayed management costs in transaction-oriented systems,\"',\n",
       "  'http://arxiv.org/abs/1409.6771'),\n",
       " ('D.Zinoviev, H.Benbrahim, G.Meszoely, and D.Stefanescu, \"Simulating resilience in transaction-oriented networks,\"',\n",
       "  'http://dl.acm.org/citation.cfm?id=2499974'),\n",
       " ('D.Zinoviev, D.Stefanescu, L.Swenson, and G.Fireman, \"Semantic networks of interests in online NSSI communities,\"',\n",
       "  'http://arxiv.org/abs/1206.5520'),\n",
       " ('D.Zinoviev and S.Llewelyn, \"Co-Evolution of Friendship and Publishing in Online Blogging Social Networks,\"',\n",
       "  'http://arxiv.org/abs/1401.6964'),\n",
       " ('D.Zinoviev, \"Information diffusion in social networks,\"',\n",
       "  'http://dl.acm.org/citation.cfm?id=2208181'),\n",
       " ('D.Zinoviev and V.Duong, \"A game theoretical approach to broadcast  information diffusion in social networks,\"',\n",
       "  'http://dl.acm.org/citation.cfm?id=2048377'),\n",
       " ('D.Zinoviev and V.Duong, \"A game theoretical approach to modeling full-duplex information dissemination,\"',\n",
       "  'http://dl.acm.org/citation.cfm?id=1999462'),\n",
       " ('D.Zinoviev, V.Duong, and H.Zhang, \"A game theoretical approach to modeling information dissemination in social networks,\"',\n",
       "  'http://arxiv.org/abs/1006.5493'),\n",
       " ('D.Zinoviev and V.Duong, \"Toward Understanding Friendship in Online Social Networks,\"',\n",
       "  'http://arxiv.org/abs/0902.4658'),\n",
       " ('D.Zinoviev, \"Topology and Geometry of Online Social Networks,\"',\n",
       "  'http://arxiv.org/abs/0807.3996'),\n",
       " ('All Characters from War and Peace by L.Tolstoy', 'v2.jpg'),\n",
       " ('Mapping the Bible: Social Networks in the Holy Book', 'bible-networks.pdf'),\n",
       " ('FIFA World Cup 2014: Who Beat Whom?', 'wc2014.gif'),\n",
       " ('The seed post \"9 American habits I lost when I moved to Germany\" and its 125 \"likes\" and \"shares\" on Facebook',\n",
       "  'facebook_spread.gif'),\n",
       " ('Suffolk University', 'https://www.suffolk.edu/college/12109.php'),\n",
       " ('Google Scholar',\n",
       "  'https://scholar.google.com/citations?hl=en&user=j5GjuIkAAAAJ&sortby=pubdate&view_op=list_works&pagesize=100'),\n",
       " ('LinkedIn', 'https://www.linkedin.com/pub/dmitry-zinoviev/4/a78/27b'),\n",
       " ('Academia.edu', 'https://suffolk.academia.edu/DmitryZinoviev'),\n",
       " ('ResearchGate', 'https://www.researchgate.net/profile/Dmitry_Zinoviev')]"
      ]
     },
     "execution_count": 2,
     "metadata": {},
     "output_type": "execute_result"
    }
   ],
   "source": [
    "with urlopen(\"http://www.networksciencelab.com/\") as doc:\n",
    "    soup = BeautifulSoup(doc)\n",
    "\n",
    "links = [(link.string, link[\"href\"])\n",
    "         for link in soup.find_all(\"a\")\n",
    "         if link.has_attr(\"href\")]\n",
    "links"
   ]
  },
  {
   "cell_type": "code",
   "execution_count": null,
   "metadata": {},
   "outputs": [],
   "source": []
  },
  {
   "cell_type": "code",
   "execution_count": null,
   "metadata": {},
   "outputs": [],
   "source": []
  },
  {
   "cell_type": "code",
   "execution_count": null,
   "metadata": {},
   "outputs": [],
   "source": []
  }
 ],
 "metadata": {
  "kernelspec": {
   "display_name": "Python 3",
   "language": "python",
   "name": "python3"
  },
  "language_info": {
   "codemirror_mode": {
    "name": "ipython",
    "version": 3
   },
   "file_extension": ".py",
   "mimetype": "text/x-python",
   "name": "python",
   "nbconvert_exporter": "python",
   "pygments_lexer": "ipython3",
   "version": "3.6.5"
  }
 },
 "nbformat": 4,
 "nbformat_minor": 2
}
